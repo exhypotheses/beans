{
  "nbformat": 4,
  "nbformat_minor": 0,
  "metadata": {
    "colab": {
      "name": "projections.ipynb",
      "provenance": [],
      "collapsed_sections": [
        "RX8bvjVMD_uw"
      ],
      "toc_visible": true
    },
    "kernelspec": {
      "name": "python3",
      "display_name": "Python 3"
    },
    "language_info": {
      "name": "python"
    }
  },
  "cells": [
    {
      "cell_type": "markdown",
      "metadata": {
        "id": "MbwaZ2iDEg7T"
      },
      "source": [
        "## Preliminaries"
      ]
    },
    {
      "cell_type": "code",
      "metadata": {
        "id": "ahXoiVIJbyEA"
      },
      "source": [
        "!rm -rf *.sh"
      ],
      "execution_count": 1,
      "outputs": []
    },
    {
      "cell_type": "markdown",
      "metadata": {
        "id": "6VgMmWuTI5rZ"
      },
      "source": [
        "<br>\n",
        "\n",
        "### Packages"
      ]
    },
    {
      "cell_type": "code",
      "metadata": {
        "id": "0IOmF5Z711sa"
      },
      "source": [
        "import subprocess"
      ],
      "execution_count": 2,
      "outputs": []
    },
    {
      "cell_type": "code",
      "metadata": {
        "id": "zXq22h_7SEh-"
      },
      "source": [
        "if 'google.colab' in str(get_ipython()):\n",
        "    subprocess.run('wget -q https://raw.githubusercontent.com/exhypotheses/beans/develop/scripts.sh', shell=True)\n",
        "    subprocess.run('chmod u+x scripts.sh', shell=True)\n",
        "    subprocess.run('./scripts.sh', shell=True)"
      ],
      "execution_count": 3,
      "outputs": []
    },
    {
      "cell_type": "markdown",
      "metadata": {
        "id": "UBfEKv0i2Bah"
      },
      "source": [
        "<br>\n",
        "\n",
        "### Paths"
      ]
    },
    {
      "cell_type": "code",
      "metadata": {
        "id": "bCDKFBRE2FzI"
      },
      "source": [
        "import os\n",
        "import pathlib\n",
        "import sys"
      ],
      "execution_count": 4,
      "outputs": []
    },
    {
      "cell_type": "code",
      "metadata": {
        "id": "WKf-tcQQ2IdK"
      },
      "source": [
        "if not 'google.colab' in str(get_ipython()):    \n",
        "    notebooks = os.getcwd()\n",
        "    parent = str(pathlib.Path(notebooks).parent)\n",
        "    sys.path.append(parent)\n",
        "else:\n",
        "    notebooks = os.getcwd()\n",
        "    parent = notebooks"
      ],
      "execution_count": 5,
      "outputs": []
    },
    {
      "cell_type": "markdown",
      "metadata": {
        "id": "Ckh5QS34BNu8"
      },
      "source": [
        "<br>\n",
        "\n",
        "Hence"
      ]
    },
    {
      "cell_type": "code",
      "metadata": {
        "id": "fpPFdliPBP7R"
      },
      "source": [
        "warehouse = os.path.join(parent, 'warehouse', 'projections')\n",
        "if not os.path.exists(warehouse):\n",
        "    os.makedirs(warehouse)"
      ],
      "execution_count": 6,
      "outputs": []
    },
    {
      "cell_type": "markdown",
      "metadata": {
        "id": "V04o5dwaEVeU"
      },
      "source": [
        "<br>\n",
        "\n",
        "### Libraries"
      ]
    },
    {
      "cell_type": "code",
      "metadata": {
        "id": "lvWNfNACETeQ"
      },
      "source": [
        "import logging\n",
        "import collections\n",
        "\n",
        "import os\n",
        "\n",
        "import yellowbrick.cluster\n",
        "\n",
        "import sklearn.manifold\n",
        "import sklearn.cluster\n",
        "import sklearn.decomposition\n",
        "import sklearn.preprocessing\n",
        "import sklearn.model_selection\n",
        "import sklearn.utils\n",
        "\n",
        "import numpy as np\n",
        "import pandas as pd\n",
        "\n",
        "import matplotlib.pyplot as plt\n",
        "import seaborn as sns"
      ],
      "execution_count": 7,
      "outputs": []
    },
    {
      "cell_type": "markdown",
      "metadata": {
        "id": "6RvKtZ3eSHCV"
      },
      "source": [
        "<br>\n",
        "\n",
        "### Logging"
      ]
    },
    {
      "cell_type": "code",
      "metadata": {
        "id": "jXsl-Gd6SGB1"
      },
      "source": [
        "logging.basicConfig(level=logging.INFO, format='%(message)s\\n%(asctime)s.%(msecs)03d', datefmt='%Y-%m-%d %H:%M:%S')\n",
        "logger = logging.getLogger(__name__)"
      ],
      "execution_count": 8,
      "outputs": []
    },
    {
      "cell_type": "markdown",
      "metadata": {
        "id": "N3xLPJBkLZqJ"
      },
      "source": [
        "<br>\n",
        "\n",
        "### Custom"
      ]
    },
    {
      "cell_type": "code",
      "metadata": {
        "id": "pdxEwJ3lLcNH"
      },
      "source": [
        "import config\n",
        "\n",
        "import beans.graphics.relational\n",
        "import beans.graphics.settings\n",
        "\n",
        "import beans.functions.scale\n",
        "\n",
        "import beans.src.modelling"
      ],
      "execution_count": 9,
      "outputs": []
    },
    {
      "cell_type": "markdown",
      "metadata": {
        "id": "sEQChpNKe5GI"
      },
      "source": [
        "<br>\n",
        "\n",
        "Configurations"
      ]
    },
    {
      "cell_type": "code",
      "metadata": {
        "id": "bkNOO8hie8Sh"
      },
      "source": [
        "configurations = config.Config()"
      ],
      "execution_count": 10,
      "outputs": []
    },
    {
      "cell_type": "markdown",
      "metadata": {
        "id": "1cPXr4llLrCF"
      },
      "source": [
        "<br>\n",
        "\n",
        "Graphs"
      ]
    },
    {
      "cell_type": "code",
      "metadata": {
        "id": "leKOS6jxLuX0"
      },
      "source": [
        "relational = beans.graphics.relational.Relational()\n",
        "\n",
        "RelationalGraphLabels = collections.namedtuple(typename='RelationalGraphLabels',\n",
        "                                               field_names=['title', 'xlabel', 'ylabel'])"
      ],
      "execution_count": 11,
      "outputs": []
    },
    {
      "cell_type": "markdown",
      "metadata": {
        "id": "A8m2l5cDMO2f"
      },
      "source": [
        "<br>\n",
        "\n",
        "Settings"
      ]
    },
    {
      "cell_type": "code",
      "metadata": {
        "id": "w_c4_LhkMRVy"
      },
      "source": [
        "settings = beans.graphics.settings.Settings()\n",
        "\n",
        "settings.layout()\n",
        "settings.aesthetics()"
      ],
      "execution_count": 12,
      "outputs": []
    },
    {
      "cell_type": "markdown",
      "metadata": {
        "id": "ZNm0d6c49dmL"
      },
      "source": [
        "<br>\n",
        "\n",
        "Constants"
      ]
    },
    {
      "cell_type": "code",
      "metadata": {
        "id": "uN7jryjd9ghZ"
      },
      "source": [
        "np.random.seed(seed=configurations.SEED)"
      ],
      "execution_count": 13,
      "outputs": []
    },
    {
      "cell_type": "markdown",
      "metadata": {
        "id": "0E7I7zwJcAAO"
      },
      "source": [
        "<br>\n",
        "<br>\n",
        "\n",
        "## Data"
      ]
    },
    {
      "cell_type": "markdown",
      "metadata": {
        "id": "fghgczsV3ZH2"
      },
      "source": [
        "### Read"
      ]
    },
    {
      "cell_type": "code",
      "metadata": {
        "id": "xca6VFVo79LG"
      },
      "source": [
        "modelling = beans.src.modelling.Modelling()"
      ],
      "execution_count": 14,
      "outputs": []
    },
    {
      "cell_type": "code",
      "metadata": {
        "colab": {
          "base_uri": "https://localhost:8080/"
        },
        "id": "fxe8AGWl9Yvl",
        "outputId": "3fea8900-f784-4898-f636-136885cc17aa"
      },
      "source": [
        "data_, weights_ = modelling.data()\n",
        "labels = modelling.labels\n",
        "target = modelling.target\n",
        "\n",
        "logger.info('Target field: {}'.format(target))\n",
        "logger.info('\\nLabels: {}'.format(labels))\n"
      ],
      "execution_count": 15,
      "outputs": [
        {
          "output_type": "stream",
          "text": [
            "Target field: class\n",
            "2021-06-04 09:26:15.212\n",
            "\n",
            "Labels: ['BARBUNYA', 'BOMBAY', 'CALI', 'DERMASON', 'HOROZ', 'SEKER', 'SIRA']\n",
            "2021-06-04 09:26:15.215\n"
          ],
          "name": "stderr"
        }
      ]
    },
    {
      "cell_type": "markdown",
      "metadata": {
        "id": "DydDfyImoqwm"
      },
      "source": [
        "<br>\n",
        "<br>\n",
        "\n",
        "## Observations"
      ]
    },
    {
      "cell_type": "code",
      "metadata": {
        "id": "gtE0tOsrUzGq"
      },
      "source": [
        "x_data = data_.drop(columns=target)\n",
        "y_data = data_[target]"
      ],
      "execution_count": 16,
      "outputs": []
    },
    {
      "cell_type": "markdown",
      "metadata": {
        "id": "FXPbkuMT0tMO"
      },
      "source": [
        "<br>\n",
        "\n",
        "### Scaling"
      ]
    },
    {
      "cell_type": "code",
      "metadata": {
        "id": "KzUvs1i11XQt"
      },
      "source": [
        "scale = beans.functions.scale.Scale()\n",
        "scaler = scale.exc(blob=x_data)\n",
        "\n",
        "x_scaled = scale.apply(blob=x_data, scaler=scaler)\n",
        "\n",
        "scaled = pd.concat((x_scaled, y_data), axis=1, ignore_index=False)"
      ],
      "execution_count": 17,
      "outputs": []
    },
    {
      "cell_type": "markdown",
      "metadata": {
        "id": "RltUOR8hl7hP"
      },
      "source": [
        "<br>\n",
        "\n",
        "### Elbow"
      ]
    },
    {
      "cell_type": "markdown",
      "metadata": {
        "id": "cWyWUImiZhid"
      },
      "source": [
        "Algorithm"
      ]
    },
    {
      "cell_type": "code",
      "metadata": {
        "id": "4iuOgmO6oyLC"
      },
      "source": [
        "kmc = sklearn.cluster.KMeans(random_state=configurations.SEED, max_iter=1000, algorithm='full')"
      ],
      "execution_count": 18,
      "outputs": []
    },
    {
      "cell_type": "markdown",
      "metadata": {
        "id": "RP5dtaYOZjga"
      },
      "source": [
        "<br>\n",
        "\n",
        "Observations"
      ]
    },
    {
      "cell_type": "code",
      "metadata": {
        "id": "roYWyzvxl_IN",
        "colab": {
          "base_uri": "https://localhost:8080/",
          "height": 358
        },
        "outputId": "0ec0c179-9682-4003-d5cd-8cac51b30e9e"
      },
      "source": [
        "# Fit & Illustrate\n",
        "ax = relational.figure(width=3.9, height=3.3)\n",
        "ybc = yellowbrick.cluster.KElbowVisualizer(\n",
        "    estimator=kmc, k=(3, 16), metric='distortion', timings=False, show=False, ax=ax);\n",
        "ybc.fit(X=scaled.drop(columns=target))\n",
        "relational.annotation(handle=ax, \n",
        "                    labels=RelationalGraphLabels._make(['\\nOptimal # of Segmentations\\nw.r.t. Elbow Method\\n', \n",
        "                                                        '\\nk', 'distortion\\n']))\n",
        "ax.legend(loc='upper right', fontsize='small');\n"
      ],
      "execution_count": 19,
      "outputs": [
        {
          "output_type": "display_data",
          "data": {
            "image/png": "[encoded data removed]",
            "text/plain": [
              "<Figure size 390x330 with 1 Axes>"
            ]
          },
          "metadata": {
            "tags": []
          }
        }
      ]
    },
    {
      "cell_type": "code",
      "metadata": {
        "colab": {
          "base_uri": "https://localhost:8080/"
        },
        "id": "zoILy0UeB4GE",
        "outputId": "c596f682-9fc8-4aab-e871-664ed50b44a7"
      },
      "source": [
        "elbow = pd.DataFrame(data={'k': ybc.k_values_, 'distortion': ybc.k_scores_})\n",
        "elbow.loc[:, 'elbow_point'] = (elbow['k'] == ybc.elbow_value_).astype(np.int)\n",
        "\n",
        "logger.info(elbow.info())"
      ],
      "execution_count": 20,
      "outputs": [
        {
          "output_type": "stream",
          "text": [
            "NumExpr defaulting to 2 threads.\n",
            "2021-06-04 09:26:27.643\n",
            "None\n",
            "2021-06-04 09:26:27.657\n"
          ],
          "name": "stderr"
        },
        {
          "output_type": "stream",
          "text": [
            "<class 'pandas.core.frame.DataFrame'>\n",
            "RangeIndex: 13 entries, 0 to 12\n",
            "Data columns (total 3 columns):\n",
            " #   Column       Non-Null Count  Dtype  \n",
            "---  ------       --------------  -----  \n",
            " 0   k            13 non-null     int64  \n",
            " 1   distortion   13 non-null     float64\n",
            " 2   elbow_point  13 non-null     int64  \n",
            "dtypes: float64(1), int64(2)\n",
            "memory usage: 440.0 bytes\n"
          ],
          "name": "stdout"
        }
      ]
    },
    {
      "cell_type": "code",
      "metadata": {
        "id": "67VolDYTENu0"
      },
      "source": [
        "elbow.to_csv(path_or_buf=os.path.join(warehouse, 'elbow.csv'), \n",
        "             index=False, header=True, encoding='utf-8')"
      ],
      "execution_count": 21,
      "outputs": []
    },
    {
      "cell_type": "markdown",
      "metadata": {
        "id": "qaas4AJUA8Hv"
      },
      "source": [
        "<br>\n",
        "<br>\n",
        "\n",
        "## Projecting"
      ]
    },
    {
      "cell_type": "markdown",
      "metadata": {
        "id": "vPbt1S6HtalD"
      },
      "source": [
        "### PCA"
      ]
    },
    {
      "cell_type": "markdown",
      "metadata": {
        "id": "3T-E4tuhdbiY"
      },
      "source": [
        "Algorithm"
      ]
    },
    {
      "cell_type": "code",
      "metadata": {
        "id": "0CSTW7aedY9z"
      },
      "source": [
        "kpca_ = sklearn.decomposition.KernelPCA(kernel='cosine')"
      ],
      "execution_count": 22,
      "outputs": []
    },
    {
      "cell_type": "code",
      "metadata": {
        "id": "WeshRGNONTjj"
      },
      "source": [
        "kpca = kpca_.fit(X=scaled.drop(columns=target))\n",
        "principals = kpca.transform(scaled.drop(columns=target))"
      ],
      "execution_count": 23,
      "outputs": []
    },
    {
      "cell_type": "markdown",
      "metadata": {
        "id": "sF_4-QVidd_F"
      },
      "source": [
        "<br>\n",
        "\n",
        "Projections"
      ]
    },
    {
      "cell_type": "code",
      "metadata": {
        "id": "chViYAYnM4sU",
        "colab": {
          "base_uri": "https://localhost:8080/"
        },
        "outputId": "bef8ae7c-beec-4cbe-b2b2-67c6d3078729"
      },
      "source": [
        "names = ['pca_' + str(i).zfill(2) for i in range(1, 1 + principals.shape[1])]\n",
        "space = pd.concat((pd.DataFrame(data=principals, columns=names), scaled[target]), axis=1)\n",
        "logger.info('\\nMatrix Shape: {}, # of non-zero eigenvalues: {}'\\\n",
        "            .format(scaled.drop(columns=target).shape, kpca.lambdas_.shape[0]))"
      ],
      "execution_count": 25,
      "outputs": [
        {
          "output_type": "stream",
          "text": [
            "\n",
            "Matrix Shape: (13611, 16), # of non-zero eigenvalues: 16\n",
            "2021-06-04 09:34:20.823\n"
          ],
          "name": "stderr"
        }
      ]
    },
    {
      "cell_type": "code",
      "metadata": {
        "colab": {
          "base_uri": "https://localhost:8080/",
          "height": 338
        },
        "id": "wSelKkLBDypy",
        "outputId": "9d3bd7cf-2be2-424c-df6a-dd9a84e328a2"
      },
      "source": [
        "ax = relational.figure(width=4.0, height=3.1)\n",
        "sns.scatterplot(data=space, x='pca_01', y='pca_02', hue=target, alpha=0.45, ax=ax)\n",
        "\n",
        "ax.set(xlim=(-1.25, 2.75), ylim=(-1.0, 1.35))\n",
        "\n",
        "relational.annotation(handle=ax, \n",
        "                    labels=RelationalGraphLabels._make(['\\nPCA\\n', '\\nPCA 1', 'PCA 2\\n']))\n",
        "ax.legend(loc='upper right', fontsize='x-small'); \n"
      ],
      "execution_count": 26,
      "outputs": [
        {
          "output_type": "display_data",
          "data": {
            "image/png": "[encoded data removed]",
            "text/plain": [
              "<Figure size 400x310 with 1 Axes>"
            ]
          },
          "metadata": {
            "tags": []
          }
        }
      ]
    },
    {
      "cell_type": "code",
      "metadata": {
        "id": "CD3aZsQRlhmh"
      },
      "source": [
        "space.to_csv(path_or_buf=os.path.join(warehouse, 'PCA.csv'), \n",
        "                   index=False, header=True, encoding='utf-8')"
      ],
      "execution_count": 27,
      "outputs": []
    },
    {
      "cell_type": "code",
      "metadata": {
        "colab": {
          "base_uri": "https://localhost:8080/"
        },
        "id": "8Njz9y7mTijw",
        "outputId": "6a94c83d-f612-440b-9386-dd5a5c6e3be0"
      },
      "source": [
        "kpca.lambdas_"
      ],
      "execution_count": 28,
      "outputs": [
        {
          "output_type": "execute_result",
          "data": {
            "text/plain": [
              "array([6.96663082e+03, 2.96526045e+03, 1.43471111e+03, 1.08621598e+03,\n",
              "       4.97762598e+02, 1.82024775e+02, 1.26326183e+02, 4.87558833e+01,\n",
              "       5.51343165e+00, 8.99387374e-01, 7.19612244e-01, 2.04893039e-01,\n",
              "       7.17480740e-02, 2.87790195e-03, 1.35381554e-03, 8.81177273e-04])"
            ]
          },
          "metadata": {
            "tags": []
          },
          "execution_count": 28
        }
      ]
    },
    {
      "cell_type": "markdown",
      "metadata": {
        "id": "RX8bvjVMD_uw"
      },
      "source": [
        "<br>\n",
        "\n",
        "### t-SNE"
      ]
    },
    {
      "cell_type": "markdown",
      "metadata": {
        "id": "kFyXIRljVVGW"
      },
      "source": [
        "\n",
        "* `ax.set_xticks(ticks=[-150, -100, -50, 0, 50, 100])`"
      ]
    },
    {
      "cell_type": "markdown",
      "metadata": {
        "id": "B5q6iAqeO9Wi"
      },
      "source": [
        "Algorithm"
      ]
    },
    {
      "cell_type": "code",
      "metadata": {
        "id": "QU337e2xJOEv"
      },
      "source": [
        "sne = sklearn.manifold.TSNE(\n",
        "    n_components=3, perplexity=50.0, early_exaggeration=12.0, learning_rate=200.0, \n",
        "    n_iter=1000, n_iter_without_progress=500, metric='cosine', init='pca', random_state=configurations.SEED, method='exact'\n",
        ")"
      ],
      "execution_count": null,
      "outputs": []
    },
    {
      "cell_type": "code",
      "metadata": {
        "id": "bTUzdAEeVbFm"
      },
      "source": [
        "transformation = sne.fit_transform(X=scaled.drop(columns=target))"
      ],
      "execution_count": null,
      "outputs": []
    },
    {
      "cell_type": "markdown",
      "metadata": {
        "id": "5_Fd0OIIwZ5k"
      },
      "source": [
        "<br>\n",
        "\n",
        "Projections\n"
      ]
    },
    {
      "cell_type": "code",
      "metadata": {
        "id": "DG9NkaCarxCR"
      },
      "source": [
        "projections = pd.concat((pd.DataFrame(data=transformation, columns=['tsne_1', 'tsne_2', 'tsne_3']), scaled[target]), axis=1)\n",
        "\n",
        "ax = relational.figure(width=4.5, height=3.5)\n",
        "sns.scatterplot(data=projections, x='tsne_1', y='tsne_2', hue=target, alpha=0.45, ax=ax)\n",
        "\n",
        "ax.set(xlim=(-175, 100), ylim=(-85, 85))\n",
        "\n",
        "relational.annotation(handle=ax, \n",
        "                    labels=RelationalGraphLabels._make(['\\nT-SNE\\n', \n",
        "                                                        '\\nT-SNE 1', 'T-SNE 2\\n']))\n",
        "ax.legend(loc='upper left', fontsize='small'); \n",
        "    "
      ],
      "execution_count": null,
      "outputs": []
    },
    {
      "cell_type": "code",
      "metadata": {
        "id": "G5yslrkagopX"
      },
      "source": [
        "projections.to_csv(path_or_buf=os.path.join(warehouse, 'tSNE.csv'), \n",
        "                   index=False, header=True, encoding='utf-8')"
      ],
      "execution_count": null,
      "outputs": []
    }
  ]
}