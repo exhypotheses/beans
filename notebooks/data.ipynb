{
  "nbformat": 4,
  "nbformat_minor": 0,
  "metadata": {
    "colab": {
      "name": "data.ipynb",
      "provenance": [],
      "collapsed_sections": []
    },
    "kernelspec": {
      "name": "python3",
      "display_name": "Python 3"
    },
    "language_info": {
      "name": "python"
    }
  },
  "cells": [
    {
      "cell_type": "markdown",
      "metadata": {
        "id": "9Oar5yOtzZrO"
      },
      "source": [
        "## Prelimiaries"
      ]
    },
    {
      "cell_type": "markdown",
      "metadata": {
        "id": "esvV-Cn9ze9o"
      },
      "source": [
        "For a Bayesian classification example for illustrating the **sheets/cards** family."
      ]
    },
    {
      "cell_type": "code",
      "metadata": {
        "id": "grZ28UVRhKda"
      },
      "source": [
        "!rm -rf *.sh"
      ],
      "execution_count": 1,
      "outputs": []
    },
    {
      "cell_type": "markdown",
      "metadata": {
        "id": "6VgMmWuTI5rZ"
      },
      "source": [
        "<br>\n",
        "\n",
        "### Packages"
      ]
    },
    {
      "cell_type": "code",
      "metadata": {
        "id": "IrEiqQ65i4HP"
      },
      "source": [
        "import subprocess"
      ],
      "execution_count": 2,
      "outputs": []
    },
    {
      "cell_type": "code",
      "metadata": {
        "id": "XVwENGGwi8pA"
      },
      "source": [
        "if 'google.colab' in str(get_ipython()):\n",
        "    subprocess.run('wget -q https://raw.githubusercontent.com/exhypotheses/beans/develop/scripts.sh', shell=True)\n",
        "    subprocess.run('chmod u+x scripts.sh', shell=True)\n",
        "    subprocess.run('./scripts.sh', shell=True)"
      ],
      "execution_count": 3,
      "outputs": []
    },
    {
      "cell_type": "markdown",
      "metadata": {
        "id": "JbZzci-YJjdo"
      },
      "source": [
        "<br>\n",
        "\n",
        "### Paths"
      ]
    },
    {
      "cell_type": "code",
      "metadata": {
        "id": "6VXX_zuiJjdp"
      },
      "source": [
        "import os\n",
        "import pathlib\n",
        "import sys"
      ],
      "execution_count": 4,
      "outputs": []
    },
    {
      "cell_type": "code",
      "metadata": {
        "id": "FbBiZQZgJjdr"
      },
      "source": [
        "if not 'google.colab' in str(get_ipython()):    \n",
        "    notebooks = os.getcwd()\n",
        "    parent = str(pathlib.Path(notebooks).parent)\n",
        "    sys.path.append(parent)\n",
        "else:\n",
        "    notebooks = os.getcwd()\n",
        "    parent = notebooks    "
      ],
      "execution_count": 5,
      "outputs": []
    },
    {
      "cell_type": "markdown",
      "metadata": {
        "id": "iAf3OiI_A59c"
      },
      "source": [
        "<br>\n",
        "\n",
        "Hence"
      ]
    },
    {
      "cell_type": "code",
      "metadata": {
        "id": "tpIrh9yKXqAp"
      },
      "source": [
        "warehouse_directory = os.path.join(parent, 'warehouse', 'data')\n",
        "if not os.path.exists(warehouse_directory):\n",
        "    os.makedirs(warehouse_directory)\n",
        "    \n",
        "raw_data_directory = os.path.join(parent, 'data')\n",
        "if not os.path.exists(raw_data_directory):\n",
        "    os.makedirs(raw_data_directory)    "
      ],
      "execution_count": 6,
      "outputs": []
    },
    {
      "cell_type": "markdown",
      "metadata": {
        "id": "7Z26TBADzc_D"
      },
      "source": [
        "<br>\n",
        "\n",
        "### Libraries"
      ]
    },
    {
      "cell_type": "code",
      "metadata": {
        "id": "Gr-J3F6IzX06"
      },
      "source": [
        "import logging\n",
        "import collections\n",
        "\n",
        "import pandas as pd\n",
        "import numpy as np\n",
        "\n",
        "import json\n",
        "\n",
        "import sklearn.preprocessing"
      ],
      "execution_count": 7,
      "outputs": []
    },
    {
      "cell_type": "markdown",
      "metadata": {
        "id": "zSgjj3zP3LX3"
      },
      "source": [
        "<br>\n",
        "\n",
        "### Logging"
      ]
    },
    {
      "cell_type": "code",
      "metadata": {
        "id": "uUTt0Rrm3HPo"
      },
      "source": [
        "logging.basicConfig(level=logging.INFO, format='%(message)s\\n%(asctime)s.%(msecs)03d', datefmt='%Y-%m-%d %H:%M:%S')\n",
        "logger = logging.getLogger(__name__)"
      ],
      "execution_count": 8,
      "outputs": []
    },
    {
      "cell_type": "markdown",
      "metadata": {
        "id": "N3xLPJBkLZqJ"
      },
      "source": [
        "<br>\n",
        "\n",
        "### Custom"
      ]
    },
    {
      "cell_type": "code",
      "metadata": {
        "id": "pdxEwJ3lLcNH"
      },
      "source": [
        "import beans.src.archetype"
      ],
      "execution_count": 9,
      "outputs": []
    },
    {
      "cell_type": "markdown",
      "metadata": {
        "id": "cySkCteDOcFN"
      },
      "source": [
        "<br>\n",
        "<br>\n",
        "\n",
        "## Data"
      ]
    },
    {
      "cell_type": "markdown",
      "metadata": {
        "id": "yk3vmPOUoJeH"
      },
      "source": [
        "### Raw"
      ]
    },
    {
      "cell_type": "markdown",
      "metadata": {
        "id": "nhQgq9PXH1Wm"
      },
      "source": [
        "Set-up\n",
        "\n",
        "* `https://archive.ics.uci.edu/ml/machine-learning-databases/00602/DryBeanDataset.zip`\n",
        "\n",
        "* `https://github.com/miscellane/hub/raw/develop/data/beans/beans.zip`"
      ]
    },
    {
      "cell_type": "code",
      "metadata": {
        "id": "u1iF53KY-8-8"
      },
      "source": [
        "url = 'https://raw.githubusercontent.com/miscellane/hub/develop/data/beans/beans.csv'\n",
        "\n",
        "usecols = ['Area', 'Perimeter', 'MajorAxisLength', 'MinorAxisLength', 'AspectRation', 'Eccentricity', 'ConvexArea', 'EquivDiameter',\n",
        "            'Extent', 'Solidity', 'roundness', 'Compactness', 'ShapeFactor1', 'ShapeFactor2', 'ShapeFactor3', 'ShapeFactor4', 'Class']\n",
        "\n",
        "dtype = {'Area': np.int, 'Perimeter': np.float, 'MajorAxisLength': np.float, 'MinorAxisLength': np.float, 'AspectRation': np.float,\n",
        "            'Eccentricity': np.float, 'ConvexArea': np.int, 'EquivDiameter': np.float, 'Extent': np.float, 'Solidity': np.float,\n",
        "            'roundness': np.float, 'Compactness': np.float, 'ShapeFactor1': np.float, 'ShapeFactor2': np.float, 'ShapeFactor3': np.float,\n",
        "            'ShapeFactor4': np.float, 'Class': str}"
      ],
      "execution_count": 10,
      "outputs": []
    },
    {
      "cell_type": "markdown",
      "metadata": {
        "id": "fzmxYMzZH6QC"
      },
      "source": [
        "<br>\n",
        "\n",
        "Read"
      ]
    },
    {
      "cell_type": "code",
      "metadata": {
        "id": "VLOuB4N1z5Pi",
        "colab": {
          "base_uri": "https://localhost:8080/"
        },
        "outputId": "4c5c8706-0deb-4b81-f9c6-d2d4f8f954fd"
      },
      "source": [
        "try:\n",
        "    data = pd.read_csv(filepath_or_buffer=url, header=0, usecols=usecols, dtype=dtype, encoding='utf-8')\n",
        "except OSError as err:\n",
        "    raise Exception(err.strerror) in err\n",
        "\n",
        "logger.info(data.info())"
      ],
      "execution_count": 11,
      "outputs": [
        {
          "output_type": "stream",
          "text": [
            "None\n",
            "2021-05-25 19:33:27.466\n"
          ],
          "name": "stderr"
        },
        {
          "output_type": "stream",
          "text": [
            "<class 'pandas.core.frame.DataFrame'>\n",
            "RangeIndex: 13611 entries, 0 to 13610\n",
            "Data columns (total 17 columns):\n",
            " #   Column           Non-Null Count  Dtype  \n",
            "---  ------           --------------  -----  \n",
            " 0   Area             13611 non-null  int64  \n",
            " 1   Perimeter        13611 non-null  float64\n",
            " 2   MajorAxisLength  13611 non-null  float64\n",
            " 3   MinorAxisLength  13611 non-null  float64\n",
            " 4   AspectRation     13611 non-null  float64\n",
            " 5   Eccentricity     13611 non-null  float64\n",
            " 6   ConvexArea       13611 non-null  int64  \n",
            " 7   EquivDiameter    13611 non-null  float64\n",
            " 8   Extent           13611 non-null  float64\n",
            " 9   Solidity         13611 non-null  float64\n",
            " 10  roundness        13611 non-null  float64\n",
            " 11  Compactness      13611 non-null  float64\n",
            " 12  ShapeFactor1     13611 non-null  float64\n",
            " 13  ShapeFactor2     13611 non-null  float64\n",
            " 14  ShapeFactor3     13611 non-null  float64\n",
            " 15  ShapeFactor4     13611 non-null  float64\n",
            " 16  Class            13611 non-null  object \n",
            "dtypes: float64(14), int64(2), object(1)\n",
            "memory usage: 1.8+ MB\n"
          ],
          "name": "stdout"
        }
      ]
    },
    {
      "cell_type": "markdown",
      "metadata": {
        "id": "IIjq1wQjLHwa"
      },
      "source": [
        "<br>\n",
        "\n",
        "Write"
      ]
    },
    {
      "cell_type": "code",
      "metadata": {
        "id": "gmv1xw9cKbD6"
      },
      "source": [
        "data.to_csv(path_or_buf=os.path.join(raw_data_directory, 'beans.csv'), \n",
        "            header=True, index=False, encoding='utf-8')"
      ],
      "execution_count": 12,
      "outputs": []
    },
    {
      "cell_type": "markdown",
      "metadata": {
        "id": "6eGKOkxypnb5"
      },
      "source": [
        "<br>\n",
        "<br>\n",
        "\n",
        "## Features"
      ]
    },
    {
      "cell_type": "markdown",
      "metadata": {
        "id": "nmuOiovueGrt"
      },
      "source": [
        "### Renaming"
      ]
    },
    {
      "cell_type": "code",
      "metadata": {
        "colab": {
          "base_uri": "https://localhost:8080/"
        },
        "id": "TI_8V6-BTL7_",
        "outputId": "87c45d0c-d1f6-478c-a676-e77b76c62910"
      },
      "source": [
        "data.rename(str.lower, axis=1, inplace=True)\n",
        "data.rename(columns={'aspectration': 'aspectratio'}, inplace=True)\n",
        "logger.info(data.info())"
      ],
      "execution_count": 13,
      "outputs": [
        {
          "output_type": "stream",
          "text": [
            "None\n",
            "2021-05-25 19:33:27.819\n"
          ],
          "name": "stderr"
        },
        {
          "output_type": "stream",
          "text": [
            "<class 'pandas.core.frame.DataFrame'>\n",
            "RangeIndex: 13611 entries, 0 to 13610\n",
            "Data columns (total 17 columns):\n",
            " #   Column           Non-Null Count  Dtype  \n",
            "---  ------           --------------  -----  \n",
            " 0   area             13611 non-null  int64  \n",
            " 1   perimeter        13611 non-null  float64\n",
            " 2   majoraxislength  13611 non-null  float64\n",
            " 3   minoraxislength  13611 non-null  float64\n",
            " 4   aspectratio      13611 non-null  float64\n",
            " 5   eccentricity     13611 non-null  float64\n",
            " 6   convexarea       13611 non-null  int64  \n",
            " 7   equivdiameter    13611 non-null  float64\n",
            " 8   extent           13611 non-null  float64\n",
            " 9   solidity         13611 non-null  float64\n",
            " 10  roundness        13611 non-null  float64\n",
            " 11  compactness      13611 non-null  float64\n",
            " 12  shapefactor1     13611 non-null  float64\n",
            " 13  shapefactor2     13611 non-null  float64\n",
            " 14  shapefactor3     13611 non-null  float64\n",
            " 15  shapefactor4     13611 non-null  float64\n",
            " 16  class            13611 non-null  object \n",
            "dtypes: float64(14), int64(2), object(1)\n",
            "memory usage: 1.8+ MB\n"
          ],
          "name": "stdout"
        }
      ]
    },
    {
      "cell_type": "markdown",
      "metadata": {
        "id": "tXvOjIlNJjeY"
      },
      "source": [
        "<br>\n",
        "\n",
        "### Write"
      ]
    },
    {
      "cell_type": "markdown",
      "metadata": {
        "id": "YqgHBpJdA4_g"
      },
      "source": [
        "For modelling"
      ]
    },
    {
      "cell_type": "code",
      "metadata": {
        "id": "8qMGEEyfqlFj"
      },
      "source": [
        "data.to_csv(path_or_buf=os.path.join(warehouse_directory, 'modelling.csv'), \n",
        "            header=True, index=False, encoding='utf-8')"
      ],
      "execution_count": 14,
      "outputs": []
    },
    {
      "cell_type": "markdown",
      "metadata": {
        "id": "_o-lF3lrJjed"
      },
      "source": [
        "<br>\n",
        "\n",
        "### Fields Help"
      ]
    },
    {
      "cell_type": "code",
      "metadata": {
        "id": "OZ0esMa6p-Ep"
      },
      "source": [
        "target = 'class'"
      ],
      "execution_count": 15,
      "outputs": []
    },
    {
      "cell_type": "code",
      "metadata": {
        "id": "QhN8ElcEn1WF"
      },
      "source": [
        "numeric = data.drop(columns=target).select_dtypes(exclude=object).columns.to_list()"
      ],
      "execution_count": 16,
      "outputs": []
    },
    {
      "cell_type": "code",
      "metadata": {
        "id": "XemulVLUJjee"
      },
      "source": [
        "dictionary = []\n",
        "\n",
        "dictionary.append({'source': 'modelling.csv', 'numeric': numeric, 'categorical': [], 'target': target})"
      ],
      "execution_count": 17,
      "outputs": []
    },
    {
      "cell_type": "code",
      "metadata": {
        "id": "FH7rMyIZJjee"
      },
      "source": [
        "with open(os.path.join(warehouse_directory, 'fields.json'), 'w') as disk:\n",
        "    json.dump(dictionary, disk)"
      ],
      "execution_count": 18,
      "outputs": []
    }
  ]
}