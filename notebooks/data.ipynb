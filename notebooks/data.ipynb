{
 "cells": [
  {
   "cell_type": "markdown",
   "metadata": {
    "id": "9Oar5yOtzZrO"
   },
   "source": [
    "## Prelimiaries"
   ]
  },
  {
   "cell_type": "markdown",
   "metadata": {
    "id": "esvV-Cn9ze9o"
   },
   "source": [
    "For a Bayesian classification example for illustrating the **sheets/cards** family."
   ]
  },
  {
   "cell_type": "code",
   "execution_count": 1,
   "metadata": {
    "id": "grZ28UVRhKda"
   },
   "outputs": [],
   "source": [
    "!rm -rf *.sh"
   ]
  },
  {
   "cell_type": "markdown",
   "metadata": {
    "id": "6VgMmWuTI5rZ"
   },
   "source": [
    "<br>\n",
    "\n",
    "### Packages"
   ]
  },
  {
   "cell_type": "code",
   "execution_count": 2,
   "metadata": {
    "id": "IrEiqQ65i4HP"
   },
   "outputs": [],
   "source": [
    "import subprocess"
   ]
  },
  {
   "cell_type": "code",
   "execution_count": 3,
   "metadata": {
    "id": "XVwENGGwi8pA"
   },
   "outputs": [],
   "source": [
    "if 'google.colab' in str(get_ipython()):\n",
    "    subprocess.run('wget -q https://raw.githubusercontent.com/exhypotheses/beans/develop/scripts.sh', shell=True)\n",
    "    subprocess.run('chmod u+x scripts.sh', shell=True)\n",
    "    subprocess.run('./scripts.sh', shell=True)"
   ]
  },
  {
   "cell_type": "markdown",
   "metadata": {
    "id": "JbZzci-YJjdo"
   },
   "source": [
    "<br>\n",
    "\n",
    "### Paths"
   ]
  },
  {
   "cell_type": "code",
   "execution_count": 4,
   "metadata": {
    "id": "6VXX_zuiJjdp"
   },
   "outputs": [],
   "source": [
    "import os\n",
    "import pathlib\n",
    "import sys"
   ]
  },
  {
   "cell_type": "code",
   "execution_count": 5,
   "metadata": {
    "id": "FbBiZQZgJjdr"
   },
   "outputs": [],
   "source": [
    "if not 'google.colab' in str(get_ipython()):    \n",
    "    notebooks = os.getcwd()\n",
    "    parent = str(pathlib.Path(notebooks).parent)\n",
    "    sys.path.append(parent)\n",
    "else:\n",
    "    notebooks = os.getcwd()\n",
    "    parent = notebooks    "
   ]
  },
  {
   "cell_type": "markdown",
   "metadata": {
    "id": "iAf3OiI_A59c"
   },
   "source": [
    "<br>\n",
    "\n",
    "Hence"
   ]
  },
  {
   "cell_type": "code",
   "execution_count": 6,
   "metadata": {
    "id": "tpIrh9yKXqAp"
   },
   "outputs": [],
   "source": [
    "warehouse_directory = os.path.join(parent, 'warehouse', 'data')\n",
    "if not os.path.exists(warehouse_directory):\n",
    "    os.makedirs(warehouse_directory)\n",
    "    \n",
    "raw_data_directory = os.path.join(parent, 'data')\n",
    "if not os.path.exists(raw_data_directory):\n",
    "    os.makedirs(raw_data_directory)    "
   ]
  },
  {
   "cell_type": "markdown",
   "metadata": {
    "id": "7Z26TBADzc_D"
   },
   "source": [
    "<br>\n",
    "\n",
    "### Libraries"
   ]
  },
  {
   "cell_type": "code",
   "execution_count": 7,
   "metadata": {
    "id": "Gr-J3F6IzX06"
   },
   "outputs": [],
   "source": [
    "import logging\n",
    "import collections\n",
    "\n",
    "import pandas as pd\n",
    "import numpy as np\n",
    "\n",
    "import json\n",
    "\n",
    "import sklearn.preprocessing"
   ]
  },
  {
   "cell_type": "markdown",
   "metadata": {
    "id": "zSgjj3zP3LX3"
   },
   "source": [
    "<br>\n",
    "\n",
    "### Logging"
   ]
  },
  {
   "cell_type": "code",
   "execution_count": 8,
   "metadata": {
    "id": "uUTt0Rrm3HPo"
   },
   "outputs": [],
   "source": [
    "logging.basicConfig(level=logging.INFO, format='%(message)s\\n%(asctime)s.%(msecs)03d', datefmt='%Y-%m-%d %H:%M:%S')\n",
    "logger = logging.getLogger(__name__)"
   ]
  },
  {
   "cell_type": "markdown",
   "metadata": {
    "id": "N3xLPJBkLZqJ"
   },
   "source": [
    "<br>\n",
    "\n",
    "### Custom"
   ]
  },
  {
   "cell_type": "code",
   "execution_count": 9,
   "metadata": {
    "id": "pdxEwJ3lLcNH"
   },
   "outputs": [],
   "source": [
    "import beans.src.archetype"
   ]
  },
  {
   "cell_type": "markdown",
   "metadata": {
    "id": "cySkCteDOcFN"
   },
   "source": [
    "<br>\n",
    "<br>\n",
    "\n",
    "## Data"
   ]
  },
  {
   "cell_type": "markdown",
   "metadata": {
    "id": "yk3vmPOUoJeH"
   },
   "source": [
    "### Raw"
   ]
  },
  {
   "cell_type": "markdown",
   "metadata": {
    "id": "nhQgq9PXH1Wm"
   },
   "source": [
    "Set-up\n",
    "\n",
    "* `https://archive.ics.uci.edu/ml/machine-learning-databases/00602/DryBeanDataset.zip`\n",
    "\n",
    "* `https://github.com/miscellane/hub/raw/develop/data/beans/beans.zip`"
   ]
  },
  {
   "cell_type": "code",
   "execution_count": 10,
   "metadata": {
    "id": "u1iF53KY-8-8"
   },
   "outputs": [],
   "source": [
    "url = 'https://raw.githubusercontent.com/miscellane/hub/develop/data/beans/beans.csv'\n",
    "\n",
    "usecols = ['Area', 'Perimeter', 'MajorAxisLength', 'MinorAxisLength', 'AspectRation', 'Eccentricity', 'ConvexArea', 'EquivDiameter',\n",
    "            'Extent', 'Solidity', 'roundness', 'Compactness', 'ShapeFactor1', 'ShapeFactor2', 'ShapeFactor3', 'ShapeFactor4', 'Class']\n",
    "\n",
    "dtype = {'Area': np.int, 'Perimeter': np.float, 'MajorAxisLength': np.float, 'MinorAxisLength': np.float, 'AspectRation': np.float,\n",
    "            'Eccentricity': np.float, 'ConvexArea': np.int, 'EquivDiameter': np.float, 'Extent': np.float, 'Solidity': np.float,\n",
    "            'roundness': np.float, 'Compactness': np.float, 'ShapeFactor1': np.float, 'ShapeFactor2': np.float, 'ShapeFactor3': np.float,\n",
    "            'ShapeFactor4': np.float, 'Class': str}"
   ]
  },
  {
   "cell_type": "markdown",
   "metadata": {
    "id": "fzmxYMzZH6QC"
   },
   "source": [
    "<br>\n",
    "\n",
    "Read"
   ]
  },
  {
   "cell_type": "code",
   "execution_count": 11,
   "metadata": {
    "colab": {
     "base_uri": "https://localhost:8080/"
    },
    "id": "VLOuB4N1z5Pi",
    "outputId": "4c5c8706-0deb-4b81-f9c6-d2d4f8f954fd"
   },
   "outputs": [
    {
     "name": "stderr",
     "output_type": "stream",
     "text": [
      "None\n",
      "2021-06-04 07:33:56.846\n"
     ]
    },
    {
     "name": "stdout",
     "output_type": "stream",
     "text": [
      "<class 'pandas.core.frame.DataFrame'>\n",
      "RangeIndex: 13611 entries, 0 to 13610\n",
      "Data columns (total 17 columns):\n",
      " #   Column           Non-Null Count  Dtype  \n",
      "---  ------           --------------  -----  \n",
      " 0   Area             13611 non-null  int32  \n",
      " 1   Perimeter        13611 non-null  float64\n",
      " 2   MajorAxisLength  13611 non-null  float64\n",
      " 3   MinorAxisLength  13611 non-null  float64\n",
      " 4   AspectRation     13611 non-null  float64\n",
      " 5   Eccentricity     13611 non-null  float64\n",
      " 6   ConvexArea       13611 non-null  int32  \n",
      " 7   EquivDiameter    13611 non-null  float64\n",
      " 8   Extent           13611 non-null  float64\n",
      " 9   Solidity         13611 non-null  float64\n",
      " 10  roundness        13611 non-null  float64\n",
      " 11  Compactness      13611 non-null  float64\n",
      " 12  ShapeFactor1     13611 non-null  float64\n",
      " 13  ShapeFactor2     13611 non-null  float64\n",
      " 14  ShapeFactor3     13611 non-null  float64\n",
      " 15  ShapeFactor4     13611 non-null  float64\n",
      " 16  Class            13611 non-null  object \n",
      "dtypes: float64(14), int32(2), object(1)\n",
      "memory usage: 1.7+ MB\n"
     ]
    }
   ],
   "source": [
    "try:\n",
    "    data = pd.read_csv(filepath_or_buffer=url, header=0, usecols=usecols, dtype=dtype, encoding='utf-8')\n",
    "except OSError as err:\n",
    "    raise Exception(err.strerror) in err\n",
    "\n",
    "logger.info(data.info())"
   ]
  },
  {
   "cell_type": "markdown",
   "metadata": {
    "id": "IIjq1wQjLHwa"
   },
   "source": [
    "<br>\n",
    "\n",
    "Write"
   ]
  },
  {
   "cell_type": "code",
   "execution_count": 12,
   "metadata": {
    "id": "gmv1xw9cKbD6"
   },
   "outputs": [],
   "source": [
    "data.to_csv(path_or_buf=os.path.join(raw_data_directory, 'beans.csv'), \n",
    "            header=True, index=False, encoding='utf-8')"
   ]
  },
  {
   "cell_type": "markdown",
   "metadata": {
    "id": "6eGKOkxypnb5"
   },
   "source": [
    "<br>\n",
    "<br>\n",
    "\n",
    "## Features"
   ]
  },
  {
   "cell_type": "markdown",
   "metadata": {
    "id": "nmuOiovueGrt"
   },
   "source": [
    "### Renaming"
   ]
  },
  {
   "cell_type": "code",
   "execution_count": 13,
   "metadata": {
    "colab": {
     "base_uri": "https://localhost:8080/"
    },
    "id": "TI_8V6-BTL7_",
    "outputId": "87c45d0c-d1f6-478c-a676-e77b76c62910"
   },
   "outputs": [
    {
     "name": "stderr",
     "output_type": "stream",
     "text": [
      "None\n",
      "2021-06-04 07:33:57.298\n"
     ]
    },
    {
     "name": "stdout",
     "output_type": "stream",
     "text": [
      "<class 'pandas.core.frame.DataFrame'>\n",
      "RangeIndex: 13611 entries, 0 to 13610\n",
      "Data columns (total 17 columns):\n",
      " #   Column           Non-Null Count  Dtype  \n",
      "---  ------           --------------  -----  \n",
      " 0   area             13611 non-null  int32  \n",
      " 1   perimeter        13611 non-null  float64\n",
      " 2   majoraxislength  13611 non-null  float64\n",
      " 3   minoraxislength  13611 non-null  float64\n",
      " 4   aspectratio      13611 non-null  float64\n",
      " 5   eccentricity     13611 non-null  float64\n",
      " 6   convexarea       13611 non-null  int32  \n",
      " 7   equivdiameter    13611 non-null  float64\n",
      " 8   extent           13611 non-null  float64\n",
      " 9   solidity         13611 non-null  float64\n",
      " 10  roundness        13611 non-null  float64\n",
      " 11  compactness      13611 non-null  float64\n",
      " 12  shapefactor1     13611 non-null  float64\n",
      " 13  shapefactor2     13611 non-null  float64\n",
      " 14  shapefactor3     13611 non-null  float64\n",
      " 15  shapefactor4     13611 non-null  float64\n",
      " 16  class            13611 non-null  object \n",
      "dtypes: float64(14), int32(2), object(1)\n",
      "memory usage: 1.7+ MB\n"
     ]
    }
   ],
   "source": [
    "data.rename(str.lower, axis=1, inplace=True)\n",
    "data.rename(columns={'aspectration': 'aspectratio'}, inplace=True)\n",
    "logger.info(data.info())"
   ]
  },
  {
   "cell_type": "markdown",
   "metadata": {
    "id": "tXvOjIlNJjeY"
   },
   "source": [
    "<br>\n",
    "\n",
    "### Write"
   ]
  },
  {
   "cell_type": "markdown",
   "metadata": {
    "id": "YqgHBpJdA4_g"
   },
   "source": [
    "For modelling"
   ]
  },
  {
   "cell_type": "code",
   "execution_count": 14,
   "metadata": {
    "id": "8qMGEEyfqlFj"
   },
   "outputs": [],
   "source": [
    "data.to_csv(path_or_buf=os.path.join(warehouse_directory, 'baseline.csv'), \n",
    "            header=True, index=False, encoding='utf-8')"
   ]
  },
  {
   "cell_type": "markdown",
   "metadata": {
    "id": "_o-lF3lrJjed"
   },
   "source": [
    "<br>\n",
    "\n",
    "### Fields Help"
   ]
  },
  {
   "cell_type": "code",
   "execution_count": 15,
   "metadata": {
    "id": "OZ0esMa6p-Ep"
   },
   "outputs": [],
   "source": [
    "target = 'class'"
   ]
  },
  {
   "cell_type": "code",
   "execution_count": 16,
   "metadata": {
    "id": "QhN8ElcEn1WF"
   },
   "outputs": [],
   "source": [
    "numeric = data.drop(columns=target).select_dtypes(exclude=object).columns.to_list()"
   ]
  },
  {
   "cell_type": "code",
   "execution_count": 17,
   "metadata": {
    "id": "XemulVLUJjee"
   },
   "outputs": [],
   "source": [
    "dictionary = []\n",
    "\n",
    "dictionary.append({'source': 'baseline.csv', 'numeric': numeric, 'categorical': [], 'target': target})"
   ]
  },
  {
   "cell_type": "code",
   "execution_count": 18,
   "metadata": {
    "id": "FH7rMyIZJjee"
   },
   "outputs": [],
   "source": [
    "with open(os.path.join(warehouse_directory, 'fields.json'), 'w') as disk:\n",
    "    json.dump(dictionary, disk)"
   ]
  }
 ],
 "metadata": {
  "colab": {
   "collapsed_sections": [],
   "name": "data.ipynb",
   "provenance": []
  },
  "kernelspec": {
   "display_name": "Python 3",
   "language": "python",
   "name": "python3"
  },
  "language_info": {
   "codemirror_mode": {
    "name": "ipython",
    "version": 3
   },
   "file_extension": ".py",
   "mimetype": "text/x-python",
   "name": "python",
   "nbconvert_exporter": "python",
   "pygments_lexer": "ipython3",
   "version": "3.7.7"
  }
 },
 "nbformat": 4,
 "nbformat_minor": 4
}
